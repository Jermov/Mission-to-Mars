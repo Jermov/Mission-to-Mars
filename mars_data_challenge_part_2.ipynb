{
 "cells": [
  {
   "cell_type": "markdown",
   "id": "6f031fab",
   "metadata": {},
   "source": [
    "# Mars Weather Analysis"
   ]
  },
  {
   "cell_type": "code",
   "execution_count": 11,
   "id": "9ea00574",
   "metadata": {},
   "outputs": [],
   "source": [
    "# Import Splinter, BeautifulSoup, and Pandas\n",
    "from splinter import Browser\n",
    "from matplotlib import pyplot as plt\n",
    "from bs4 import BeautifulSoup as soup\n",
    "import pandas as pd\n",
    "from webdriver_manager.chrome import ChromeDriverManager"
   ]
  },
  {
   "cell_type": "code",
   "execution_count": 12,
   "id": "f221030a",
   "metadata": {},
   "outputs": [],
   "source": [
    "# Set the executable path and initialize Splinter\n",
    "executable_path = {'executable_path': ChromeDriverManager().install()}\n",
    "browser = Browser('chrome', **executable_path, headless=False)"
   ]
  },
  {
   "cell_type": "code",
   "execution_count": 13,
   "id": "59bd1d7f",
   "metadata": {},
   "outputs": [],
   "source": [
    "# Visit the weather website\n",
    "url = 'https://data-class-mars-challenge.s3.amazonaws.com/Mars/index.html'\n",
    "browser.visit(url)"
   ]
  },
  {
   "cell_type": "code",
   "execution_count": 15,
   "id": "478bfcf7",
   "metadata": {},
   "outputs": [
    {
     "name": "stdout",
     "output_type": "stream",
     "text": [
      "        id terrestrial_date   sol   ls  month  min_temp  pressure\n",
      "0        2       2012-08-16    10  155      6     -75.0     739.0\n",
      "1       13       2012-08-17    11  156      6     -76.0     740.0\n",
      "2       24       2012-08-18    12  156      6     -76.0     741.0\n",
      "3       35       2012-08-19    13  157      6     -74.0     732.0\n",
      "4       46       2012-08-20    14  157      6     -74.0     740.0\n",
      "...    ...              ...   ...  ...    ...       ...       ...\n",
      "1862  1889       2018-02-23  1973  133      5     -78.0     730.0\n",
      "1863  1892       2018-02-24  1974  134      5     -77.0     729.0\n",
      "1864  1894       2018-02-25  1975  134      5     -76.0     729.0\n",
      "1865  1893       2018-02-26  1976  135      5     -77.0     728.0\n",
      "1866  1895       2018-02-27  1977  135      5     -77.0     727.0\n",
      "\n",
      "[1867 rows x 7 columns]\n"
     ]
    }
   ],
   "source": [
    "#make the list coming in from read_html to a dataframe for data analysis\n",
    "dfs = pd.read_html(url)\n",
    "df = dfs[0]\n",
    "print(df)"
   ]
  },
  {
   "cell_type": "code",
   "execution_count": 16,
   "id": "41bcc91e",
   "metadata": {},
   "outputs": [
    {
     "data": {
      "text/plain": [
       "id                    int64\n",
       "terrestrial_date     object\n",
       "sol                   int64\n",
       "ls                    int64\n",
       "month                 int64\n",
       "min_temp            float64\n",
       "pressure            float64\n",
       "dtype: object"
      ]
     },
     "execution_count": 16,
     "metadata": {},
     "output_type": "execute_result"
    }
   ],
   "source": [
    "#see what datatypes are\n",
    "df.dtypes\n",
    "#note: terrestrial_date is a object- want it date"
   ]
  },
  {
   "cell_type": "code",
   "execution_count": 17,
   "id": "6d29afd4",
   "metadata": {},
   "outputs": [
    {
     "data": {
      "text/plain": [
       "id                           int64\n",
       "terrestrial_date    datetime64[ns]\n",
       "sol                          int64\n",
       "ls                           int64\n",
       "month                        int64\n",
       "min_temp                   float64\n",
       "pressure                   float64\n",
       "dtype: object"
      ]
     },
     "execution_count": 17,
     "metadata": {},
     "output_type": "execute_result"
    }
   ],
   "source": [
    "#make terrestrial date a date\n",
    "df['terrestrial_date'] = pd.to_datetime(df['terrestrial_date'])\n",
    "df.dtypes"
   ]
  },
  {
   "cell_type": "markdown",
   "id": "d390d0d5",
   "metadata": {},
   "source": [
    "# Q: How many months exist on Mars?"
   ]
  },
  {
   "cell_type": "code",
   "execution_count": 18,
   "id": "5e92d16c",
   "metadata": {},
   "outputs": [
    {
     "name": "stdout",
     "output_type": "stream",
     "text": [
      "Count of Months on Mars : 12\n"
     ]
    }
   ],
   "source": [
    "#answer to questions\n",
    "#How many months exist on mars?\n",
    "n = len(pd.unique(df['month']))\n",
    "  \n",
    "print(\"Count of Months on Mars :\", \n",
    "      n)\n"
   ]
  },
  {
   "cell_type": "markdown",
   "id": "f0c17427",
   "metadata": {},
   "source": [
    "# Q: Answer the following question: How many Martian (and not Earth) days worth of data exist in the scraped dataset?"
   ]
  },
  {
   "cell_type": "code",
   "execution_count": 19,
   "id": "833599ea",
   "metadata": {},
   "outputs": [
    {
     "name": "stdout",
     "output_type": "stream",
     "text": [
      "Count of Martian Days in Dataset : 1867\n"
     ]
    }
   ],
   "source": [
    "#Answer the following question: How many Martian (and not Earth) days worth of data exist in the scraped dataset?\n",
    "n = len(pd.unique(df['sol']))\n",
    "  \n",
    "print(\"Count of Martian Days in Dataset :\", \n",
    "      n)"
   ]
  },
  {
   "cell_type": "markdown",
   "id": "b4923106",
   "metadata": {},
   "source": [
    "# Q: What are the coldest and the warmest months on Mars (at the location of Curiosity)?"
   ]
  },
  {
   "cell_type": "code",
   "execution_count": 20,
   "id": "d6457ad7",
   "metadata": {},
   "outputs": [
    {
     "name": "stdout",
     "output_type": "stream",
     "text": [
      "       Minimum Temp  Maximum Temp\n",
      "month                            \n",
      "1             -82.0         -62.0\n",
      "2             -86.0         -76.0\n",
      "3             -90.0         -77.0\n",
      "4             -89.0         -77.0\n",
      "5             -85.0         -74.0\n",
      "6             -84.0         -71.0\n",
      "7             -78.0         -65.0\n",
      "8             -75.0         -63.0\n",
      "9             -78.0         -63.0\n",
      "10            -81.0         -66.0\n",
      "11            -78.0         -67.0\n",
      "12            -81.0         -70.0\n"
     ]
    }
   ],
   "source": [
    "#min and max temps for each month:\n",
    "p=df.groupby('month').min_temp.max()\n",
    "pdf=pd.DataFrame(p)\n",
    "pdf.rename(columns={\"min_temp\": \"Maximum Temp\"}, inplace=True)\n",
    "#print(pdf)\n",
    "q=df.groupby('month').min_temp.min()\n",
    "qdf=pd.DataFrame(q)\n",
    "\n",
    "#rename min_temp for both\n",
    "qdf.rename(columns={\"min_temp\": \"Minimum Temp\"}, inplace=True)\n",
    "#print(qdf)\n",
    "result = pd.merge(qdf, pdf, on=\"month\")\n",
    "print(result)"
   ]
  },
  {
   "cell_type": "code",
   "execution_count": 21,
   "id": "5549621b",
   "metadata": {},
   "outputs": [
    {
     "name": "stdout",
     "output_type": "stream",
     "text": [
      " Coldest Month on Mars is Month 3 at -90.0\n",
      " Warmest Month on Mars is Month 1 at -62.0\n"
     ]
    },
    {
     "data": {
      "image/png": "[encoded data removed]",
      "text/plain": [
       "<Figure size 720x360 with 1 Axes>"
      ]
     },
     "metadata": {
      "needs_background": "light"
     },
     "output_type": "display_data"
    }
   ],
   "source": [
    "#What are the coldest and the warmest months on Mars (at the location of Curiosity)?\n",
    "dfCold=df[['month', 'min_temp']].copy()\n",
    "#create the barchart\n",
    "fig = plt.figure(figsize = (10, 5))\n",
    " \n",
    "# creating the bar plot\n",
    "plt.bar(dfCold['month'], dfCold['min_temp'], color ='green',\n",
    "        width = 0.4)\n",
    " \n",
    "plt.xlabel(\"Month\")\n",
    "plt.ylabel(\"Temperature\")\n",
    "plt.title(\"Mars Minimum Temperatures\")\n",
    "print(f\" Coldest Month on Mars is Month 3 at -90.0\")\n",
    "print(f\" Warmest Month on Mars is Month 1 at -62.0\")\n",
    "plt.show()"
   ]
  },
  {
   "cell_type": "markdown",
   "id": "b7301e52",
   "metadata": {},
   "source": [
    "#  Which months have the lowest and the highest atmospheric pressure on Mars? "
   ]
  },
  {
   "cell_type": "code",
   "execution_count": 22,
   "id": "fae03402",
   "metadata": {},
   "outputs": [
    {
     "name": "stdout",
     "output_type": "stream",
     "text": [
      "       Minimum Pressure  Maximum Pressure\n",
      "month                                    \n",
      "1                 820.0             888.0\n",
      "2                 867.0             908.0\n",
      "3                 833.0             907.0\n",
      "4                 754.0             857.0\n",
      "5                 727.0             777.0\n",
      "6                 732.0             764.0\n",
      "7                 751.0             836.0\n",
      "8                 828.0             914.0\n",
      "9                 896.0             925.0\n",
      "10                862.0             917.0\n",
      "11                837.0             879.0\n",
      "12                829.0             853.0\n"
     ]
    }
   ],
   "source": [
    "p=df.groupby('month').pressure.max()\n",
    "pdf=pd.DataFrame(p)\n",
    "pdf.rename(columns={\"pressure\": \"Maximum Pressure\"}, inplace=True)\n",
    "#print(pdf)\n",
    "q=df.groupby('month').pressure.min()\n",
    "qdf=pd.DataFrame(q)\n",
    "\n",
    "#rename min_temp for both\n",
    "qdf.rename(columns={\"pressure\": \"Minimum Pressure\"}, inplace=True)\n",
    "#print(qdf)\n",
    "resultP = pd.merge(qdf, pdf, on=\"month\")\n",
    "print(resultP)"
   ]
  },
  {
   "cell_type": "code",
   "execution_count": 23,
   "id": "c2523b72",
   "metadata": {},
   "outputs": [
    {
     "data": {
      "image/png": "[encoded data removed]",
      "text/plain": [
       "<Figure size 432x288 with 1 Axes>"
      ]
     },
     "metadata": {
      "needs_background": "light"
     },
     "output_type": "display_data"
    },
    {
     "name": "stdout",
     "output_type": "stream",
     "text": [
      " Highest Pressure noted in Month 9 at 925\n",
      " Lowest Pressure noted in Month 5 at 727\n"
     ]
    }
   ],
   "source": [
    "#Answer the following question: Which months have the lowest and the highest atmospheric pressure on \n",
    "dfPressure=df[['month', 'pressure']].copy()\n",
    "# creating the bar plot\n",
    "plt.bar(dfPressure['month'], dfPressure['pressure'], color ='green',\n",
    "        width = 0.4)\n",
    " \n",
    "plt.xlabel(\"Month\")\n",
    "plt.ylabel(\"Pressure\")\n",
    "plt.title(\"Mars Atmospheric Pressure Readings\")\n",
    "plt.show()\n",
    "print(f\" Highest Pressure noted in Month 9 at 925\")\n",
    "print(f\" Lowest Pressure noted in Month 5 at 727\")"
   ]
  },
  {
   "cell_type": "markdown",
   "id": "4a68b5b6",
   "metadata": {},
   "source": [
    "# Q: About how many terrestrial (Earth) days exist in a Martian year? "
   ]
  },
  {
   "cell_type": "code",
   "execution_count": 24,
   "id": "fd63e95b",
   "metadata": {},
   "outputs": [
    {
     "data": {
      "image/png": "[encoded data removed]",
      "text/plain": [
       "<Figure size 432x288 with 1 Axes>"
      ]
     },
     "metadata": {
      "needs_background": "light"
     },
     "output_type": "display_data"
    },
    {
     "name": "stdout",
     "output_type": "stream",
     "text": [
      " First lowest temp noted at sol 500, next lowest temp noted at about sol 1200: Estimated Martian Year is 700 days\n"
     ]
    }
   ],
   "source": [
    "#Answer the following question: About how many terrestrial (Earth) days exist in a Martian year? \n",
    "#That is, in the time that Mars circles the Sun once, how many days elapse on Earth? Visually \n",
    "#estimate the result by plotting the daily minimum temperature.\n",
    "#get temp and sol alone in a dataframe\n",
    "dfYear=df[['sol', 'min_temp']].copy()\n",
    "plt.xlabel(\"Mars Day\")\n",
    "plt.ylabel(\"Min Temp on Mars\")\n",
    "x_axis=dfYear['sol']\n",
    "e_x=dfYear['min_temp']\n",
    "\n",
    "plt.plot(x_axis, e_x)\n",
    "plt.show()\n",
    "#appears about 500 sol to 1200 sol are the low temps, making a martian year about 700 days\n",
    "print(f\" First lowest temp noted at sol 500, next lowest temp noted at about sol 1200: Estimated Martian Year is 700 days\")"
   ]
  },
  {
   "cell_type": "markdown",
   "id": "b0f59103",
   "metadata": {},
   "source": [
    "# Export the DataFrame to a CSV file."
   ]
  },
  {
   "cell_type": "code",
   "execution_count": 25,
   "id": "35f62e02",
   "metadata": {},
   "outputs": [],
   "source": [
    "df.to_csv('./resources/mars_weather.csv')"
   ]
  },
  {
   "cell_type": "code",
   "execution_count": 26,
   "id": "1d84e77a",
   "metadata": {},
   "outputs": [],
   "source": [
    "#Quit the browser\n",
    "browser.quit()"
   ]
  },
  {
   "cell_type": "code",
   "execution_count": null,
   "id": "6ce12576",
   "metadata": {},
   "outputs": [],
   "source": []
  }
 ],
 "metadata": {
  "kernelspec": {
   "display_name": "Python [conda env:root] *",
   "language": "python",
   "name": "conda-root-py"
  },
  "language_info": {
   "codemirror_mode": {
    "name": "ipython",
    "version": 3
   },
   "file_extension": ".py",
   "mimetype": "text/x-python",
   "name": "python",
   "nbconvert_exporter": "python",
   "pygments_lexer": "ipython3",
   "version": "3.9.12"
  }
 },
 "nbformat": 4,
 "nbformat_minor": 5
}
